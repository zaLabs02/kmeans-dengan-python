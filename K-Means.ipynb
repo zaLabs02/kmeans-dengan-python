{
 "cells": [
  {
   "cell_type": "markdown",
   "metadata": {},
   "source": [
    "# 1. Input Libraries\n",
    "Pertama, library yang kita butuhkan pada studi kasus ini adalah Scikit-learn dan beberapa data acak untuk mengilutrasikan penjelasan sederhana pengelompokan K-means."
   ]
  },
  {
   "cell_type": "code",
   "execution_count": 1,
   "metadata": {},
   "outputs": [],
   "source": [
    "import numpy as np\n",
    "import pandas as pd\n",
    "import matplotlib.pyplot as plt \n",
    "from pandas import read_csv, DataFrame\n",
    "from sklearn.cluster import KMeans\n",
    "from sklearn.preprocessing import MinMaxScaler"
   ]
  },
  {
   "cell_type": "markdown",
   "metadata": {},
   "source": [
    "# 2. Masukkan Data yang Akan di Kelompokkan\n",
    "Setelah mengimpor semua dependensi yang diperlukan, selanjutnya kita akan memuat dataset."
   ]
  },
  {
   "cell_type": "code",
   "execution_count": 2,
   "metadata": {},
   "outputs": [
    {
     "data": {
      "text/html": [
       "<div>\n",
       "<style scoped>\n",
       "    .dataframe tbody tr th:only-of-type {\n",
       "        vertical-align: middle;\n",
       "    }\n",
       "\n",
       "    .dataframe tbody tr th {\n",
       "        vertical-align: top;\n",
       "    }\n",
       "\n",
       "    .dataframe thead th {\n",
       "        text-align: right;\n",
       "    }\n",
       "</style>\n",
       "<table border=\"1\" class=\"dataframe\">\n",
       "  <thead>\n",
       "    <tr style=\"text-align: right;\">\n",
       "      <th></th>\n",
       "      <th>No</th>\n",
       "      <th>Matematika</th>\n",
       "      <th>Fisika</th>\n",
       "      <th>Kimia</th>\n",
       "      <th>Biologi</th>\n",
       "      <th>Sejarah</th>\n",
       "      <th>Akuntansi</th>\n",
       "      <th>Sosiologi</th>\n",
       "      <th>Geografi</th>\n",
       "    </tr>\n",
       "  </thead>\n",
       "  <tbody>\n",
       "    <tr>\n",
       "      <th>0</th>\n",
       "      <td>1</td>\n",
       "      <td>79</td>\n",
       "      <td>75</td>\n",
       "      <td>75</td>\n",
       "      <td>85</td>\n",
       "      <td>76</td>\n",
       "      <td>78</td>\n",
       "      <td>76</td>\n",
       "      <td>80</td>\n",
       "    </tr>\n",
       "    <tr>\n",
       "      <th>1</th>\n",
       "      <td>2</td>\n",
       "      <td>84</td>\n",
       "      <td>76</td>\n",
       "      <td>79</td>\n",
       "      <td>77</td>\n",
       "      <td>76</td>\n",
       "      <td>77</td>\n",
       "      <td>75</td>\n",
       "      <td>81</td>\n",
       "    </tr>\n",
       "    <tr>\n",
       "      <th>2</th>\n",
       "      <td>3</td>\n",
       "      <td>77</td>\n",
       "      <td>84</td>\n",
       "      <td>78</td>\n",
       "      <td>85</td>\n",
       "      <td>92</td>\n",
       "      <td>89</td>\n",
       "      <td>77</td>\n",
       "      <td>82</td>\n",
       "    </tr>\n",
       "    <tr>\n",
       "      <th>3</th>\n",
       "      <td>4</td>\n",
       "      <td>78</td>\n",
       "      <td>86</td>\n",
       "      <td>84</td>\n",
       "      <td>77</td>\n",
       "      <td>78</td>\n",
       "      <td>77</td>\n",
       "      <td>75</td>\n",
       "      <td>75</td>\n",
       "    </tr>\n",
       "    <tr>\n",
       "      <th>4</th>\n",
       "      <td>5</td>\n",
       "      <td>82</td>\n",
       "      <td>82</td>\n",
       "      <td>81</td>\n",
       "      <td>91</td>\n",
       "      <td>90</td>\n",
       "      <td>82</td>\n",
       "      <td>79</td>\n",
       "      <td>91</td>\n",
       "    </tr>\n",
       "  </tbody>\n",
       "</table>\n",
       "</div>"
      ],
      "text/plain": [
       "   No  Matematika  Fisika  Kimia  Biologi  Sejarah  Akuntansi  Sosiologi  \\\n",
       "0   1          79      75     75       85       76         78         76   \n",
       "1   2          84      76     79       77       76         77         75   \n",
       "2   3          77      84     78       85       92         89         77   \n",
       "3   4          78      86     84       77       78         77         75   \n",
       "4   5          82      82     81       91       90         82         79   \n",
       "\n",
       "   Geografi  \n",
       "0        80  \n",
       "1        81  \n",
       "2        82  \n",
       "3        75  \n",
       "4        91  "
      ]
     },
     "execution_count": 2,
     "metadata": {},
     "output_type": "execute_result"
    }
   ],
   "source": [
    "data = read_csv(\"dataset/kmeans.csv\")\n",
    "data.head()"
   ]
  },
  {
   "cell_type": "markdown",
   "metadata": {},
   "source": [
    "# 3. Preprocessing data\n",
    "Kita dapat melihat bahwa tidak semua nilai fitur bertipe sama. Untuk mempermudah perhitungan, kita akan mengumpankan semua data numerik ke model. Mari kita lihat tipe data dari berbagai fitur yang dimiliki:"
   ]
  },
  {
   "cell_type": "code",
   "execution_count": 3,
   "metadata": {},
   "outputs": [
    {
     "name": "stdout",
     "output_type": "stream",
     "text": [
      "<class 'pandas.core.frame.DataFrame'>\n",
      "RangeIndex: 12 entries, 0 to 11\n",
      "Data columns (total 9 columns):\n",
      " #   Column      Non-Null Count  Dtype\n",
      "---  ------      --------------  -----\n",
      " 0   No          12 non-null     int64\n",
      " 1   Matematika  12 non-null     int64\n",
      " 2   Fisika      12 non-null     int64\n",
      " 3   Kimia       12 non-null     int64\n",
      " 4   Biologi     12 non-null     int64\n",
      " 5   Sejarah     12 non-null     int64\n",
      " 6   Akuntansi   12 non-null     int64\n",
      " 7   Sosiologi   12 non-null     int64\n",
      " 8   Geografi    12 non-null     int64\n",
      "dtypes: int64(9)\n",
      "memory usage: 992.0 bytes\n"
     ]
    }
   ],
   "source": [
    "data.info()"
   ]
  },
  {
   "cell_type": "markdown",
   "metadata": {},
   "source": [
    "Selanjutnya ubahlah variabel menjadi array"
   ]
  },
  {
   "cell_type": "code",
   "execution_count": 4,
   "metadata": {},
   "outputs": [
    {
     "name": "stdout",
     "output_type": "stream",
     "text": [
      "[[ 1 79 75 75 85 76 78 76 80]\n",
      " [ 2 84 76 79 77 76 77 75 81]\n",
      " [ 3 77 84 78 85 92 89 77 82]\n",
      " [ 4 78 86 84 77 78 77 75 75]\n",
      " [ 5 82 82 81 91 90 82 79 91]\n",
      " [ 6 75 75 70 82 75 75 79 75]\n",
      " [ 7 77 75 75 89 80 80 75 75]\n",
      " [ 8 77 76 70 77 77 80 75 80]\n",
      " [ 9 79 76 75 84 77 81 76 77]\n",
      " [10 80 75 75 75 75 78 77 79]\n",
      " [11 76 71 75 75 77 81 79 84]\n",
      " [12 80 77 75 78 78 77 77 80]]\n"
     ]
    }
   ],
   "source": [
    "x_array = np.array(data)\n",
    "print(x_array)"
   ]
  },
  {
   "cell_type": "markdown",
   "metadata": {},
   "source": [
    "# 4. Buat Cluster\n",
    "Lalu untuk membuat data nya kembali seperti jenis data diawal sebelum di arry kan, perlu di standarisasikan ukuran variabelnya"
   ]
  },
  {
   "cell_type": "code",
   "execution_count": 5,
   "metadata": {},
   "outputs": [
    {
     "data": {
      "text/plain": [
       "array([[0.        , 0.44444444, 0.26666667, 0.35714286, 0.625     ,\n",
       "        0.05882353, 0.21428571, 0.25      , 0.3125    ],\n",
       "       [0.09090909, 1.        , 0.33333333, 0.64285714, 0.125     ,\n",
       "        0.05882353, 0.14285714, 0.        , 0.375     ],\n",
       "       [0.18181818, 0.22222222, 0.86666667, 0.57142857, 0.625     ,\n",
       "        1.        , 1.        , 0.5       , 0.4375    ],\n",
       "       [0.27272727, 0.33333333, 1.        , 1.        , 0.125     ,\n",
       "        0.17647059, 0.14285714, 0.        , 0.        ],\n",
       "       [0.36363636, 0.77777778, 0.73333333, 0.78571429, 1.        ,\n",
       "        0.88235294, 0.5       , 1.        , 1.        ],\n",
       "       [0.45454545, 0.        , 0.26666667, 0.        , 0.4375    ,\n",
       "        0.        , 0.        , 1.        , 0.        ],\n",
       "       [0.54545455, 0.22222222, 0.26666667, 0.35714286, 0.875     ,\n",
       "        0.29411765, 0.35714286, 0.        , 0.        ],\n",
       "       [0.63636364, 0.22222222, 0.33333333, 0.        , 0.125     ,\n",
       "        0.11764706, 0.35714286, 0.        , 0.3125    ],\n",
       "       [0.72727273, 0.44444444, 0.33333333, 0.35714286, 0.5625    ,\n",
       "        0.11764706, 0.42857143, 0.25      , 0.125     ],\n",
       "       [0.81818182, 0.55555556, 0.26666667, 0.35714286, 0.        ,\n",
       "        0.        , 0.21428571, 0.5       , 0.25      ],\n",
       "       [0.90909091, 0.11111111, 0.        , 0.35714286, 0.        ,\n",
       "        0.11764706, 0.42857143, 1.        , 0.5625    ],\n",
       "       [1.        , 0.55555556, 0.4       , 0.35714286, 0.1875    ,\n",
       "        0.17647059, 0.14285714, 0.5       , 0.3125    ]])"
      ]
     },
     "execution_count": 5,
     "metadata": {},
     "output_type": "execute_result"
    }
   ],
   "source": [
    "scaler = MinMaxScaler()\n",
    "x_scaled = scaler.fit_transform(x_array)\n",
    "x_scaled"
   ]
  },
  {
   "cell_type": "markdown",
   "metadata": {},
   "source": [
    "Nah, baru kita bisa menentukan nilai K nya dimana, nilai K (n_clusters) atau nilai arbiter bebas ditentukan dalam artian tergantung kepada peneliti. Pada studi kasus ritel cola ini, kita akan menggunakan nilai K sebesar 2 cluster."
   ]
  },
  {
   "cell_type": "code",
   "execution_count": 6,
   "metadata": {},
   "outputs": [
    {
     "data": {
      "text/plain": [
       "KMeans(algorithm='auto', copy_x=True, init='k-means++', max_iter=300,\n",
       "       n_clusters=2, n_init=10, n_jobs=None, precompute_distances='auto',\n",
       "       random_state=123, tol=0.0001, verbose=0)"
      ]
     },
     "execution_count": 6,
     "metadata": {},
     "output_type": "execute_result"
    }
   ],
   "source": [
    "# Menentukan dan mengkonfigurasi fungsi kmeans\n",
    "kmeans = KMeans(n_clusters = 2, random_state=123)\n",
    "# Menentukan kluster dari data\n",
    "kmeans.fit(x_scaled)"
   ]
  },
  {
   "cell_type": "code",
   "execution_count": 7,
   "metadata": {},
   "outputs": [
    {
     "data": {
      "text/plain": [
       "array([[0.27272727, 0.5       , 0.8       , 0.67857143, 0.8125    ,\n",
       "        0.94117647, 0.75      , 0.75      , 0.71875   ],\n",
       "       [0.54545455, 0.38888889, 0.34666667, 0.37857143, 0.30625   ,\n",
       "        0.11176471, 0.24285714, 0.35      , 0.225     ]])"
      ]
     },
     "execution_count": 7,
     "metadata": {},
     "output_type": "execute_result"
    }
   ],
   "source": [
    "# Menampilkan pusat cluster\n",
    "np.array(kmeans.cluster_centers_)"
   ]
  },
  {
   "cell_type": "markdown",
   "metadata": {},
   "source": [
    "Kemudian tampilkan hasil kluster mu dan tambahkan kolom klusteran mu kedalam data frame."
   ]
  },
  {
   "cell_type": "code",
   "execution_count": 8,
   "metadata": {},
   "outputs": [
    {
     "name": "stdout",
     "output_type": "stream",
     "text": [
      "[1 1 0 1 0 1 1 1 1 1 1 1]\n"
     ]
    },
    {
     "data": {
      "text/html": [
       "<div>\n",
       "<style scoped>\n",
       "    .dataframe tbody tr th:only-of-type {\n",
       "        vertical-align: middle;\n",
       "    }\n",
       "\n",
       "    .dataframe tbody tr th {\n",
       "        vertical-align: top;\n",
       "    }\n",
       "\n",
       "    .dataframe thead th {\n",
       "        text-align: right;\n",
       "    }\n",
       "</style>\n",
       "<table border=\"1\" class=\"dataframe\">\n",
       "  <thead>\n",
       "    <tr style=\"text-align: right;\">\n",
       "      <th></th>\n",
       "      <th>No</th>\n",
       "      <th>Matematika</th>\n",
       "      <th>Fisika</th>\n",
       "      <th>Kimia</th>\n",
       "      <th>Biologi</th>\n",
       "      <th>Sejarah</th>\n",
       "      <th>Akuntansi</th>\n",
       "      <th>Sosiologi</th>\n",
       "      <th>Geografi</th>\n",
       "      <th>kluster</th>\n",
       "    </tr>\n",
       "  </thead>\n",
       "  <tbody>\n",
       "    <tr>\n",
       "      <th>0</th>\n",
       "      <td>1</td>\n",
       "      <td>79</td>\n",
       "      <td>75</td>\n",
       "      <td>75</td>\n",
       "      <td>85</td>\n",
       "      <td>76</td>\n",
       "      <td>78</td>\n",
       "      <td>76</td>\n",
       "      <td>80</td>\n",
       "      <td>1</td>\n",
       "    </tr>\n",
       "    <tr>\n",
       "      <th>1</th>\n",
       "      <td>2</td>\n",
       "      <td>84</td>\n",
       "      <td>76</td>\n",
       "      <td>79</td>\n",
       "      <td>77</td>\n",
       "      <td>76</td>\n",
       "      <td>77</td>\n",
       "      <td>75</td>\n",
       "      <td>81</td>\n",
       "      <td>1</td>\n",
       "    </tr>\n",
       "    <tr>\n",
       "      <th>2</th>\n",
       "      <td>3</td>\n",
       "      <td>77</td>\n",
       "      <td>84</td>\n",
       "      <td>78</td>\n",
       "      <td>85</td>\n",
       "      <td>92</td>\n",
       "      <td>89</td>\n",
       "      <td>77</td>\n",
       "      <td>82</td>\n",
       "      <td>0</td>\n",
       "    </tr>\n",
       "    <tr>\n",
       "      <th>3</th>\n",
       "      <td>4</td>\n",
       "      <td>78</td>\n",
       "      <td>86</td>\n",
       "      <td>84</td>\n",
       "      <td>77</td>\n",
       "      <td>78</td>\n",
       "      <td>77</td>\n",
       "      <td>75</td>\n",
       "      <td>75</td>\n",
       "      <td>1</td>\n",
       "    </tr>\n",
       "    <tr>\n",
       "      <th>4</th>\n",
       "      <td>5</td>\n",
       "      <td>82</td>\n",
       "      <td>82</td>\n",
       "      <td>81</td>\n",
       "      <td>91</td>\n",
       "      <td>90</td>\n",
       "      <td>82</td>\n",
       "      <td>79</td>\n",
       "      <td>91</td>\n",
       "      <td>0</td>\n",
       "    </tr>\n",
       "    <tr>\n",
       "      <th>5</th>\n",
       "      <td>6</td>\n",
       "      <td>75</td>\n",
       "      <td>75</td>\n",
       "      <td>70</td>\n",
       "      <td>82</td>\n",
       "      <td>75</td>\n",
       "      <td>75</td>\n",
       "      <td>79</td>\n",
       "      <td>75</td>\n",
       "      <td>1</td>\n",
       "    </tr>\n",
       "    <tr>\n",
       "      <th>6</th>\n",
       "      <td>7</td>\n",
       "      <td>77</td>\n",
       "      <td>75</td>\n",
       "      <td>75</td>\n",
       "      <td>89</td>\n",
       "      <td>80</td>\n",
       "      <td>80</td>\n",
       "      <td>75</td>\n",
       "      <td>75</td>\n",
       "      <td>1</td>\n",
       "    </tr>\n",
       "    <tr>\n",
       "      <th>7</th>\n",
       "      <td>8</td>\n",
       "      <td>77</td>\n",
       "      <td>76</td>\n",
       "      <td>70</td>\n",
       "      <td>77</td>\n",
       "      <td>77</td>\n",
       "      <td>80</td>\n",
       "      <td>75</td>\n",
       "      <td>80</td>\n",
       "      <td>1</td>\n",
       "    </tr>\n",
       "    <tr>\n",
       "      <th>8</th>\n",
       "      <td>9</td>\n",
       "      <td>79</td>\n",
       "      <td>76</td>\n",
       "      <td>75</td>\n",
       "      <td>84</td>\n",
       "      <td>77</td>\n",
       "      <td>81</td>\n",
       "      <td>76</td>\n",
       "      <td>77</td>\n",
       "      <td>1</td>\n",
       "    </tr>\n",
       "    <tr>\n",
       "      <th>9</th>\n",
       "      <td>10</td>\n",
       "      <td>80</td>\n",
       "      <td>75</td>\n",
       "      <td>75</td>\n",
       "      <td>75</td>\n",
       "      <td>75</td>\n",
       "      <td>78</td>\n",
       "      <td>77</td>\n",
       "      <td>79</td>\n",
       "      <td>1</td>\n",
       "    </tr>\n",
       "    <tr>\n",
       "      <th>10</th>\n",
       "      <td>11</td>\n",
       "      <td>76</td>\n",
       "      <td>71</td>\n",
       "      <td>75</td>\n",
       "      <td>75</td>\n",
       "      <td>77</td>\n",
       "      <td>81</td>\n",
       "      <td>79</td>\n",
       "      <td>84</td>\n",
       "      <td>1</td>\n",
       "    </tr>\n",
       "    <tr>\n",
       "      <th>11</th>\n",
       "      <td>12</td>\n",
       "      <td>80</td>\n",
       "      <td>77</td>\n",
       "      <td>75</td>\n",
       "      <td>78</td>\n",
       "      <td>78</td>\n",
       "      <td>77</td>\n",
       "      <td>77</td>\n",
       "      <td>80</td>\n",
       "      <td>1</td>\n",
       "    </tr>\n",
       "  </tbody>\n",
       "</table>\n",
       "</div>"
      ],
      "text/plain": [
       "    No  Matematika  Fisika  Kimia  Biologi  Sejarah  Akuntansi  Sosiologi  \\\n",
       "0    1          79      75     75       85       76         78         76   \n",
       "1    2          84      76     79       77       76         77         75   \n",
       "2    3          77      84     78       85       92         89         77   \n",
       "3    4          78      86     84       77       78         77         75   \n",
       "4    5          82      82     81       91       90         82         79   \n",
       "5    6          75      75     70       82       75         75         79   \n",
       "6    7          77      75     75       89       80         80         75   \n",
       "7    8          77      76     70       77       77         80         75   \n",
       "8    9          79      76     75       84       77         81         76   \n",
       "9   10          80      75     75       75       75         78         77   \n",
       "10  11          76      71     75       75       77         81         79   \n",
       "11  12          80      77     75       78       78         77         77   \n",
       "\n",
       "    Geografi  kluster  \n",
       "0         80        1  \n",
       "1         81        1  \n",
       "2         82        0  \n",
       "3         75        1  \n",
       "4         91        0  \n",
       "5         75        1  \n",
       "6         75        1  \n",
       "7         80        1  \n",
       "8         77        1  \n",
       "9         79        1  \n",
       "10        84        1  \n",
       "11        80        1  "
      ]
     },
     "execution_count": 8,
     "metadata": {},
     "output_type": "execute_result"
    }
   ],
   "source": [
    "# Menampilkan hasil kluster\n",
    "print(kmeans.labels_)\n",
    "# Menambahkan kolom \"kluster\" dalam data frame ritel\n",
    "data[\"kluster\"] = kmeans.labels_\n",
    "data"
   ]
  },
  {
   "cell_type": "code",
   "execution_count": null,
   "metadata": {},
   "outputs": [],
   "source": []
  }
 ],
 "metadata": {
  "kernelspec": {
   "display_name": "Python 3",
   "language": "python",
   "name": "python3"
  },
  "language_info": {
   "codemirror_mode": {
    "name": "ipython",
    "version": 3
   },
   "file_extension": ".py",
   "mimetype": "text/x-python",
   "name": "python",
   "nbconvert_exporter": "python",
   "pygments_lexer": "ipython3",
   "version": "3.7.5"
  }
 },
 "nbformat": 4,
 "nbformat_minor": 2
}
